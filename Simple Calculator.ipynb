{
 "cells": [
  {
   "cell_type": "code",
   "execution_count": null,
   "id": "492ef2d6",
   "metadata": {},
   "outputs": [],
   "source": [
    "while True:    #infinite loop\n",
    "    num1=int(input(\"Enter number 1:\"))\n",
    "    num2=int(input(\"Enter number 2:\"))\n",
    "    print(\"1.Addition\\n2.Subtraction\\n3.Multipication\\n4.Division\")\n",
    "    choice=int(input(\"Choose any choice from above:\"))\n",
    "    if choice==1:\n",
    "        print(\"Addition is:\",num1+num2)\n",
    "    elif choice==2:\n",
    "        print(\"subtraction is:\",num1-num2)\n",
    "    elif choice==3:\n",
    "        print(\"multiplication is:\",num1*num2)\n",
    "    elif choice==4:\n",
    "        print(\"division is\",num1/num2)\n",
    "    else:\n",
    "        print(\"invalid choice\")\n",
    "    ans=input(\"Do you want to continue?(y/n):\")\n",
    "    ans=ans.lower()#If Y is in upper case\n",
    "    if ans!=\"y\":\n",
    "        break\n",
    "        \n",
    "    "
   ]
  },
  {
   "cell_type": "code",
   "execution_count": null,
   "id": "41bfc02d",
   "metadata": {},
   "outputs": [],
   "source": []
  }
 ],
 "metadata": {
  "kernelspec": {
   "display_name": "Python 3 (ipykernel)",
   "language": "python",
   "name": "python3"
  },
  "language_info": {
   "codemirror_mode": {
    "name": "ipython",
    "version": 3
   },
   "file_extension": ".py",
   "mimetype": "text/x-python",
   "name": "python",
   "nbconvert_exporter": "python",
   "pygments_lexer": "ipython3",
   "version": "3.9.12"
  }
 },
 "nbformat": 4,
 "nbformat_minor": 5
}
